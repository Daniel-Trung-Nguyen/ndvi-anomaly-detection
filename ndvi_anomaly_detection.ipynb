{
 "cells": [
  {
   "cell_type": "code",
   "execution_count": 1,
   "metadata": {},
   "outputs": [
    {
     "name": "stderr",
     "output_type": "stream",
     "text": [
      "Using TensorFlow backend.\n"
     ]
    }
   ],
   "source": [
    "import luminol\n",
    "import numpy as np\n",
    "import pandas as pd\n",
    "import matplotlib.pyplot as plt\n",
    "import itertools\n",
    "import warnings\n",
    "from keras.models import Sequential\n",
    "from keras.layers import Dense\n",
    "from keras.layers import LSTM\n",
    "%config IPCompleter.greedy=True"
   ]
  },
  {
   "cell_type": "code",
   "execution_count": 2,
   "metadata": {},
   "outputs": [],
   "source": [
    "#Loading NDVI dataset\n",
    "df_2018 = pd.read_csv(r\"C:\\Users\\i341657\\OneDrive - SAP SE\\Desktop\\dataset_LaPeyrouse_2018.csv\",delimiter=';')\n",
    "df_2017 = pd.read_csv(r\"C:\\Users\\i341657\\OneDrive - SAP SE\\Desktop\\dataset_LaPeyrouse_2017.csv\",delimiter=';')\n",
    "df_2016 = pd.read_csv(r\"C:\\Users\\i341657\\OneDrive - SAP SE\\Desktop\\dataset_LaPeyrouse_2016.csv\",delimiter=';')"
   ]
  },
  {
   "cell_type": "code",
   "execution_count": 3,
   "metadata": {},
   "outputs": [],
   "source": [
    "#Adding month coloumn to the dataset\n",
    "df_2018['Date'] = pd.to_datetime(df_2018['Date'])\n",
    "df_2018['Month'] = df_2018['Date'].apply(lambda x: x.month)\n",
    "\n",
    "df_2017['Date'] = pd.to_datetime(df_2017['Date'])\n",
    "df_2017['Month'] = df_2017['Date'].apply(lambda x: x.month)\n",
    "\n",
    "df_2016['Date'] = pd.to_datetime(df_2016['Date'])\n",
    "df_2016['Month'] = df_2016['Date'].apply(lambda x: x.month)\n",
    "\n",
    "#Creating new dataframe with 'NDVI_mean','Month' as coloumns\n",
    "df_2016_new = df_2016[['NDVI_mean','Month']]\n",
    "df_2016_new = df_2016_new.groupby('Month').agg({ 'NDVI_mean':'mean'}).reset_index()\n",
    "\n",
    "df_2017_new = df_2017[['NDVI_mean','Month']]\n",
    "df_2017_new = df_2017_new.groupby('Month').agg({ 'NDVI_mean':'mean'}).reset_index()\n",
    "\n",
    "df_2018_new = df_2018[['NDVI_mean','Month']]\n",
    "df_2018_new = df_2018_new.groupby('Month').agg({ 'NDVI_mean':'mean'}).reset_index()"
   ]
  },
  {
   "cell_type": "code",
   "execution_count": 4,
   "metadata": {},
   "outputs": [],
   "source": [
    "#This is a manual process to insert missing NDVI values(NDVI values for some months might be missing)\n",
    "m1 = df_2017_new[df_2017_new['Month']==2].NDVI_mean.values[0]\n",
    "m2 = df_2018_new[df_2018_new['Month']==2].NDVI_mean.values[0]\n",
    "df_2016_new = df_2016_new.append({'Month' : 2 , 'NDVI_mean' : (m1+m2)/2} , ignore_index=True)\n",
    "\n",
    "m1 = df_2017_new[df_2017_new['Month']==3].NDVI_mean.values[0]\n",
    "m2 = df_2018_new[df_2018_new['Month']==3].NDVI_mean.values[0]\n",
    "df_2016_new = df_2016_new.append({'Month' : 3 , 'NDVI_mean' : (m1+m2)/2} , ignore_index=True)\n",
    "\n",
    "df_2016_new = df_2016_new.sort_values(by=['Month'])"
   ]
  },
  {
   "cell_type": "code",
   "execution_count": 5,
   "metadata": {},
   "outputs": [],
   "source": [
    "#Concatenation of dataframe of 2016, 2017 and 2018\n",
    "DF1 =  pd.concat([df_2016,df_2017])\n",
    "DF2 =  pd.concat([DF1,df_2018])\n",
    "\n",
    "DF = DF2[['Date','NDVI_mean']]\n",
    "DF = DF.append({'Date' : '2016-02-22', 'NDVI_mean' : 0.191004} , ignore_index=True)\n",
    "DF = DF.append({'Date' : '2016-03-22', 'NDVI_mean' : 0.215451} , ignore_index=True)\n",
    "DF['Date'] = pd.to_datetime(DF['Date'])\n",
    "DF = DF.sort_values(by=['Date'])\n",
    "DF = DF.groupby('Date')['NDVI_mean'].sum().reset_index()"
   ]
  },
  {
   "cell_type": "code",
   "execution_count": 6,
   "metadata": {},
   "outputs": [
    {
     "data": {
      "text/plain": [
       "DatetimeIndex(['2016-01-29', '2016-02-22', '2016-03-22', '2016-04-08',\n",
       "               '2016-04-18', '2016-05-18', '2016-06-07', '2016-06-27',\n",
       "               '2016-07-07', '2016-07-17', '2016-08-06', '2016-08-16',\n",
       "               '2016-08-26', '2016-09-05', '2016-10-15', '2016-11-24',\n",
       "               '2016-12-14', '2016-12-24', '2017-01-03', '2017-02-22',\n",
       "               '2017-03-14', '2017-04-03', '2017-04-13', '2017-04-23',\n",
       "               '2017-05-23', '2017-06-12', '2017-07-02', '2017-07-07',\n",
       "               '2017-07-12', '2017-07-17', '2017-07-27', '2017-08-06',\n",
       "               '2017-08-21', '2017-09-05', '2017-09-10', '2017-09-20',\n",
       "               '2017-10-05', '2017-10-10', '2017-10-25', '2017-11-14',\n",
       "               '2017-11-19', '2017-12-19', '2017-12-24', '2018-01-18',\n",
       "               '2018-01-28', '2018-02-07', '2018-02-12', '2018-02-27',\n",
       "               '2018-03-14', '2018-04-18', '2018-05-23', '2018-06-22',\n",
       "               '2018-07-07', '2018-07-12', '2018-07-17', '2018-07-27',\n",
       "               '2018-08-01', '2018-08-11', '2018-08-16', '2018-08-21',\n",
       "               '2018-08-26', '2018-08-31', '2018-09-05', '2018-09-20',\n",
       "               '2018-09-25', '2018-10-05', '2018-10-15', '2018-10-20',\n",
       "               '2018-10-25', '2018-11-24', '2018-12-04', '2018-12-09',\n",
       "               '2018-12-19', '2018-12-29'],\n",
       "              dtype='datetime64[ns]', name='Date', freq=None)"
      ]
     },
     "execution_count": 6,
     "metadata": {},
     "output_type": "execute_result"
    }
   ],
   "source": [
    "DF = DF.set_index('Date')\n",
    "DF.index"
   ]
  },
  {
   "cell_type": "code",
   "execution_count": 7,
   "metadata": {},
   "outputs": [],
   "source": [
    "y = DF['NDVI_mean'].resample('MS').mean()"
   ]
  },
  {
   "cell_type": "code",
   "execution_count": 8,
   "metadata": {},
   "outputs": [],
   "source": [
    "#Loading weather dataset\n",
    "df_weather_2018 = pd.read_csv(r\"C:\\Users\\i341657\\OneDrive - SAP SE\\Desktop\\fellowship\\fellowship\\weather_2018.csv\")\n",
    "df_weather_2017 = pd.read_csv(r\"C:\\Users\\i341657\\OneDrive - SAP SE\\Desktop\\fellowship\\fellowship\\weather_2017.csv\")\n",
    "df_weather_2016 = pd.read_csv(r\"C:\\Users\\i341657\\OneDrive - SAP SE\\Desktop\\fellowship\\fellowship\\weather_2016.csv\")"
   ]
  },
  {
   "cell_type": "code",
   "execution_count": 9,
   "metadata": {},
   "outputs": [],
   "source": [
    "#Concatenation of dataframe of 2016, 2017 and 2018\n",
    "DF1 =  pd.concat([df_weather_2016,df_weather_2017])\n",
    "DF2 =  pd.concat([DF1,df_weather_2018])\n",
    "\n",
    "DF_weather = DF2[['precip_avg','temperature_avg','humidity_avg']]"
   ]
  },
  {
   "cell_type": "code",
   "execution_count": 10,
   "metadata": {},
   "outputs": [],
   "source": [
    "#Comibining NDVI and weather dataframes\n",
    "#Now coloumns are : NDVI_mean,precip_avg,temperature_avg,humidity_avg\n",
    "DF_weather.index = y.index\n",
    "Y = pd.concat([y,DF_weather],axis=1)"
   ]
  },
  {
   "cell_type": "code",
   "execution_count": 11,
   "metadata": {},
   "outputs": [
    {
     "data": {
      "image/png": "[encoded data removed]",
      "text/plain": [
       "<Figure size 432x288 with 4 Axes>"
      ]
     },
     "metadata": {
      "needs_background": "light"
     },
     "output_type": "display_data"
    }
   ],
   "source": [
    "#Plotting all the coloumns of dataframe which contains 3 years data(36 months)\n",
    "#X-axis is number of months\n",
    "values = Y.values\n",
    "\n",
    "# specify columns to plot\n",
    "groups = [0, 1, 2, 3]\n",
    "i = 1\n",
    "# plot each column\n",
    "plt.figure()\n",
    "for group in groups:\n",
    "    plt.subplot(len(groups), 1, i)\n",
    "    plt.plot(values[:, group])\n",
    "    plt.title(Y.columns[group], y=0.5, loc='right')\n",
    "    i += 1\n",
    "plt.show()"
   ]
  },
  {
   "cell_type": "markdown",
   "metadata": {},
   "source": [
    "### Converting time-series into supervised data"
   ]
  },
  {
   "cell_type": "code",
   "execution_count": 12,
   "metadata": {},
   "outputs": [
    {
     "name": "stdout",
     "output_type": "stream",
     "text": [
      "    var1(t-1)  var2(t-1)  var3(t-1)  var4(t-1)   var1(t)  var2(t)  var3(t)  \\\n",
      "1    0.161925       0.01       50.0       68.0  0.191004     0.07     51.0   \n",
      "2    0.191004       0.07       51.0       56.0  0.215451     0.03     51.0   \n",
      "3    0.215451       0.03       51.0       58.0  0.231281     0.04     57.0   \n",
      "4    0.231281       0.04       57.0       58.0  0.239082     0.04     62.0   \n",
      "5    0.239082       0.04       62.0       58.0  0.231071     0.01     72.0   \n",
      "6    0.231071       0.01       72.0       48.0  0.205880     0.02     77.0   \n",
      "7    0.205880       0.02       77.0       46.0  0.200058     0.01     76.0   \n",
      "8    0.200058       0.01       76.0       49.0  0.177095     0.02     74.0   \n",
      "9    0.177095       0.02       74.0       48.0  0.240259     0.05     62.0   \n",
      "10   0.240259       0.05       62.0       65.0  0.238435     0.02     55.0   \n",
      "11   0.238435       0.02       55.0       67.0  0.187823     0.01     49.0   \n",
      "12   0.187823       0.01       49.0       75.0  0.188958     0.08     45.0   \n",
      "13   0.188958       0.08       45.0       59.0  0.221459     0.04     52.0   \n",
      "14   0.221459       0.04       52.0       71.0  0.250197     0.05     56.0   \n",
      "15   0.250197       0.05       56.0       62.0  0.237079     0.01     59.0   \n",
      "16   0.237079       0.01       59.0       52.0  0.271765     0.01     66.0   \n",
      "17   0.271765       0.01       66.0       61.0  0.266123     0.04     75.0   \n",
      "18   0.266123       0.04       75.0       60.0  0.241495     0.00     76.0   \n",
      "19   0.241495       0.00       76.0       58.0  0.231429     0.00     76.0   \n",
      "20   0.231429       0.00       76.0       58.0  0.247808     0.03     67.0   \n",
      "21   0.247808       0.03       67.0       59.0  0.253679     0.02     65.0   \n",
      "22   0.253679       0.02       65.0       65.0  0.188679     0.00     53.0   \n",
      "23   0.188679       0.00       53.0       59.0  0.132030     0.02     46.0   \n",
      "24   0.132030       0.02       46.0       64.0  0.125529     0.02     52.0   \n",
      "25   0.125529       0.02       52.0       68.0  0.160548     0.03     44.0   \n",
      "26   0.160548       0.03       44.0       61.0  0.180705     0.05     51.0   \n",
      "27   0.180705       0.05       51.0       65.0  0.246153     0.08     59.0   \n",
      "28   0.246153       0.08       59.0       70.0  0.275318     0.06     64.0   \n",
      "29   0.275318       0.06       64.0       66.0  0.338812     0.04     72.0   \n",
      "30   0.338812       0.04       72.0       61.0  0.252892     0.02     80.0   \n",
      "31   0.252892       0.02       80.0       50.0  0.240756     0.04     80.0   \n",
      "32   0.240756       0.04       80.0       49.0  0.261175     0.05     73.0   \n",
      "33   0.261175       0.05       73.0       60.0  0.293460     0.22     64.0   \n",
      "34   0.293460       0.22       64.0       68.0  0.364148     0.03     54.0   \n",
      "35   0.364148       0.03       54.0       75.0  0.232342     0.04     52.0   \n",
      "\n",
      "    var4(t)  \n",
      "1      56.0  \n",
      "2      58.0  \n",
      "3      58.0  \n",
      "4      58.0  \n",
      "5      48.0  \n",
      "6      46.0  \n",
      "7      49.0  \n",
      "8      48.0  \n",
      "9      65.0  \n",
      "10     67.0  \n",
      "11     75.0  \n",
      "12     59.0  \n",
      "13     71.0  \n",
      "14     62.0  \n",
      "15     52.0  \n",
      "16     61.0  \n",
      "17     60.0  \n",
      "18     58.0  \n",
      "19     58.0  \n",
      "20     59.0  \n",
      "21     65.0  \n",
      "22     59.0  \n",
      "23     64.0  \n",
      "24     68.0  \n",
      "25     61.0  \n",
      "26     65.0  \n",
      "27     70.0  \n",
      "28     66.0  \n",
      "29     61.0  \n",
      "30     50.0  \n",
      "31     49.0  \n",
      "32     60.0  \n",
      "33     68.0  \n",
      "34     75.0  \n",
      "35     68.0  \n"
     ]
    }
   ],
   "source": [
    "from pandas import DataFrame\n",
    "from pandas import concat\n",
    "\n",
    "def series_to_supervised(data, n_in=1, n_out=1, dropnan=True):\n",
    "\t\"\"\"\n",
    "\tFrame a time series as a supervised learning dataset.\n",
    "\tArguments:\n",
    "\t\tdata: Sequence of observations as a list or NumPy array.\n",
    "\t\tn_in: Number of lag observations as input (X).\n",
    "\t\tn_out: Number of observations as output (y).\n",
    "\t\tdropnan: Boolean whether or not to drop rows with NaN values.\n",
    "\tReturns:\n",
    "\t\tPandas DataFrame of series framed for supervised learning.\n",
    "\t\"\"\"\n",
    "\tn_vars = 1 if type(data) is list else data.shape[1]\n",
    "\tdf = DataFrame(data)\n",
    "\tcols, names = list(), list()\n",
    "\t# input sequence (t-n, ... t-1)\n",
    "\tfor i in range(n_in, 0, -1):\n",
    "\t\tcols.append(df.shift(i))\n",
    "\t\tnames += [('var%d(t-%d)' % (j+1, i)) for j in range(n_vars)]\n",
    "\t# forecast sequence (t, t+1, ... t+n)\n",
    "\tfor i in range(0, n_out):\n",
    "\t\tcols.append(df.shift(-i))\n",
    "\t\tif i == 0:\n",
    "\t\t\tnames += [('var%d(t)' % (j+1)) for j in range(n_vars)]\n",
    "\t\telse:\n",
    "\t\t\tnames += [('var%d(t+%d)' % (j+1, i)) for j in range(n_vars)]\n",
    "\t# put it all together\n",
    "\tagg = concat(cols, axis=1)\n",
    "\tagg.columns = names\n",
    "\t# drop rows with NaN values\n",
    "\tif dropnan:\n",
    "\t\tagg.dropna(inplace=True)\n",
    "\treturn agg\n",
    "\n",
    "\n",
    "\n",
    "data = series_to_supervised(values)\n",
    "print(data)"
   ]
  },
  {
   "cell_type": "code",
   "execution_count": 13,
   "metadata": {},
   "outputs": [],
   "source": [
    "#Dropping the coloumns which are not required for prediction\n",
    "data.drop(data.columns[[5,6,7]], axis=1, inplace=True)"
   ]
  },
  {
   "cell_type": "code",
   "execution_count": 14,
   "metadata": {},
   "outputs": [],
   "source": [
    "train_X = data.values[:,:-1]\n",
    "train_Y = data.values[:,-1]\n",
    "train_X = train_X.reshape((train_X.shape[0], 1, train_X.shape[1]))"
   ]
  },
  {
   "cell_type": "code",
   "execution_count": 15,
   "metadata": {},
   "outputs": [
    {
     "name": "stdout",
     "output_type": "stream",
     "text": [
      "Epoch 1/20\n",
      " - 1s - loss: 0.5647\n",
      "Epoch 2/20\n",
      " - 0s - loss: 0.1848\n",
      "Epoch 3/20\n",
      " - 0s - loss: 0.1224\n",
      "Epoch 4/20\n",
      " - 0s - loss: 0.0782\n",
      "Epoch 5/20\n",
      " - 0s - loss: 0.0600\n",
      "Epoch 6/20\n",
      " - 0s - loss: 0.0472\n",
      "Epoch 7/20\n",
      " - 0s - loss: 0.0470\n",
      "Epoch 8/20\n",
      " - 0s - loss: 0.0333\n",
      "Epoch 9/20\n",
      " - 0s - loss: 0.0375\n",
      "Epoch 10/20\n",
      " - 0s - loss: 0.0328\n",
      "Epoch 11/20\n",
      " - 0s - loss: 0.0371\n",
      "Epoch 12/20\n",
      " - 0s - loss: 0.0299\n",
      "Epoch 13/20\n",
      " - 0s - loss: 0.0351\n",
      "Epoch 14/20\n",
      " - 0s - loss: 0.0307\n",
      "Epoch 15/20\n",
      " - 0s - loss: 0.0309\n",
      "Epoch 16/20\n",
      " - 0s - loss: 0.0298\n",
      "Epoch 17/20\n",
      " - 0s - loss: 0.0330\n",
      "Epoch 18/20\n",
      " - 0s - loss: 0.0304\n",
      "Epoch 19/20\n",
      " - 0s - loss: 0.0313\n",
      "Epoch 20/20\n",
      " - 0s - loss: 0.0293\n"
     ]
    }
   ],
   "source": [
    "# designing the network\n",
    "model = Sequential()\n",
    "model.add(LSTM(50, input_shape=(train_X.shape[1], train_X.shape[2])))\n",
    "model.add(Dense(1))\n",
    "model.compile(loss='mae', optimizer='adam')\n",
    "# fitting the model\n",
    "history = model.fit(train_X, train_Y, epochs=20, batch_size=5, verbose=2, shuffle=False)"
   ]
  },
  {
   "cell_type": "code",
   "execution_count": 16,
   "metadata": {},
   "outputs": [],
   "source": [
    "# Using the december-2018 values to predict january-2019 NDVI value.\n",
    "X_test = Y.values[-1:,:]\n",
    "X_test = X_test.reshape((X_test.shape[0],1,X_test.shape[1]))"
   ]
  },
  {
   "cell_type": "code",
   "execution_count": 17,
   "metadata": {},
   "outputs": [],
   "source": [
    "# Actual-Observed values in January-2019\n",
    "x_jan_2019 = [0.20934236,0.01,46,58]"
   ]
  },
  {
   "cell_type": "code",
   "execution_count": 18,
   "metadata": {},
   "outputs": [
    {
     "name": "stdout",
     "output_type": "stream",
     "text": [
      "[[0.22546148]]\n"
     ]
    }
   ],
   "source": [
    "y_test = model.predict(X_test)\n",
    "print(y_test)"
   ]
  },
  {
   "cell_type": "code",
   "execution_count": 20,
   "metadata": {},
   "outputs": [
    {
     "name": "stdout",
     "output_type": "stream",
     "text": [
      "Forecasted value: 0.20934236\n",
      "Actual value: 0.22546148\n"
     ]
    }
   ],
   "source": [
    "'''We have forecasted value and actual value. Based on a certain threshold, we can compare these values and found out \n",
    "   whether forecasted value is anomaly or not.\n",
    "'''\n",
    "print(\"Forecasted value: \"+str(x_jan_2019[0]))\n",
    "print(\"Actual value: \"+str(y_test[0][0]))"
   ]
  }
 ],
 "metadata": {
  "kernelspec": {
   "display_name": "Python 3",
   "language": "python",
   "name": "python3"
  },
  "language_info": {
   "codemirror_mode": {
    "name": "ipython",
    "version": 3
   },
   "file_extension": ".py",
   "mimetype": "text/x-python",
   "name": "python",
   "nbconvert_exporter": "python",
   "pygments_lexer": "ipython3",
   "version": "3.6.7"
  }
 },
 "nbformat": 4,
 "nbformat_minor": 2
}
