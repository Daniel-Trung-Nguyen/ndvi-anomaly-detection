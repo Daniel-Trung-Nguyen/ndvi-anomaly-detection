{
 "cells": [
  {
   "cell_type": "code",
   "execution_count": null,
   "metadata": {},
   "outputs": [],
   "source": [
    "import json\n",
    "import os\n",
    "import requests\n",
    "import numpy as np\n",
    "import pandas as pd"
   ]
  },
  {
   "cell_type": "code",
   "execution_count": null,
   "metadata": {},
   "outputs": [],
   "source": [
    "url = 'https://services.sentinel-hub.com/ogc/fis/cd280189-7c51-45a6-ab05-f96a76067710'\n",
    "header = {'Accept':'application/json','Content-Type': 'application/json;charset=UTF-8'}\n",
    "folder = r'C:\\Users\\i341657\\OneDrive - SAP SE\\Desktop\\fellowship\\fellowship\\netherlands_geojson'\n",
    "file_list = os.listdir(folder)"
   ]
  },
  {
   "cell_type": "code",
   "execution_count": null,
   "metadata": {},
   "outputs": [],
   "source": [
    "for file in file_list:\n",
    "    with open(folder +'\\\\' + file) as json_file:\n",
    "        data = json.load(json_file)\n",
    "        #print(data['features'][0]['geometry']['coordinates'][0])\n",
    "        coordinates_list  = data['features'][0]['geometry']['coordinates'][0][0] #check for last index[0]\n",
    "        print(coordinates_list)\n",
    "        Len = len(data['features'][0]['geometry']['coordinates'][0][0]) #check for last index[0]\n",
    "        print(Len)\n",
    "        polygon=\"POLYGON ((\"\n",
    "        for i in range(0,Len):\n",
    "            polygon+=str(coordinates_list[i][0])+\" \"+str(coordinates_list[i][1])\n",
    "            if(i!=Len-1):\n",
    "                polygon=polygon+\", \"\n",
    "        polygon+=\"))\"\n",
    "        print(polygon)\n",
    "        payload = {\"layer\":\"__FIS_3_NDVI\",\"crs\":\"CRS:84\",\"time\":\"2018-01-01/2018-12-31\",\"resolution\":\"10m\",\"geometry\":polygon,\"bins\":10,\"type\":\"EQUALFREQUENCY\",\"maxcc\":30}\n",
    "        \n",
    "        response = requests.post(url,json=payload)\n",
    "        print(response.text)\n",
    "        data = json.loads(response.text)\n",
    "        date = []\n",
    "        ndvi = []\n",
    "        label = []\n",
    "#         Len = len(data['C0'])\n",
    "        for i in range(0,len(data['C0'])):\n",
    "            date.append(data['C0'][i]['date'])\n",
    "            ndvi.append(data['C0'][i]['basicStats']['mean'])\n",
    "            label.append(0)\n",
    "            \n",
    "        df = pd.DataFrame({'Date':date,'NDVI_mean':ndvi,'label':label})\n",
    "        df['Date'] = pd.to_datetime(df['Date'])\n",
    "        df['Month'] = df['Date'].apply(lambda x: x.month)\n",
    "        df_sorted = df.sort_values(by='Date')\n",
    "        \n",
    "        df_sorted.to_csv('cloudcover_30/'+file.strip('.json')+'.csv')"
   ]
  },
  {
   "cell_type": "code",
   "execution_count": null,
   "metadata": {},
   "outputs": [],
   "source": [
    "\n",
    "payload = {\"layer\":\"__FIS_3_NDVI\",\"crs\":\"CRS:84\",\"time\":\"2019-02-20/2019-03-20\",\"resolution\":\"10m\",\"geometry\":\"POLYGON ((6.974614 43.643034, 6.974611 43.643355, 6.974298 43.643399, 6.974247 43.643078, 6.974614 43.643034))\",\"bins\":10,\"type\":\"EQUALFREQUENCY\",\"maxcc\":100}"
   ]
  },
  {
   "cell_type": "code",
   "execution_count": null,
   "metadata": {},
   "outputs": [],
   "source": [
    "\n",
    "response = requests.post(url,json=payload)"
   ]
  },
  {
   "cell_type": "code",
   "execution_count": null,
   "metadata": {},
   "outputs": [],
   "source": [
    "json.loads(response.text)"
   ]
  }
 ],
 "metadata": {
  "kernelspec": {
   "display_name": "Python 3",
   "language": "python",
   "name": "python3"
  },
  "language_info": {
   "codemirror_mode": {
    "name": "ipython",
    "version": 3
   },
   "file_extension": ".py",
   "mimetype": "text/x-python",
   "name": "python",
   "nbconvert_exporter": "python",
   "pygments_lexer": "ipython3",
   "version": "3.6.7"
  }
 },
 "nbformat": 4,
 "nbformat_minor": 2
}
